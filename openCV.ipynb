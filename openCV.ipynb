{
 "cells": [
  {
   "cell_type": "code",
   "id": "initial_id",
   "metadata": {
    "collapsed": true,
    "ExecuteTime": {
     "end_time": "2025-08-24T19:54:46.860183Z",
     "start_time": "2025-08-24T19:54:46.725412Z"
    }
   },
   "source": "import cv2 as cv",
   "outputs": [],
   "execution_count": 2
  },
  {
   "metadata": {
    "ExecuteTime": {
     "end_time": "2025-08-24T19:54:46.863704Z",
     "start_time": "2025-08-24T19:54:46.861188Z"
    }
   },
   "cell_type": "code",
   "source": "# img = cv.imread('Photos/cat_large.jpg')",
   "id": "504c0c437e94b5da",
   "outputs": [],
   "execution_count": 3
  },
  {
   "metadata": {
    "ExecuteTime": {
     "end_time": "2025-08-24T19:54:46.868711Z",
     "start_time": "2025-08-24T19:54:46.864713Z"
    }
   },
   "cell_type": "code",
   "source": [
    "# cv.imshow('Cat', img)\n",
    "# cv.waitKey(0)"
   ],
   "id": "c10ba9bda1b2668a",
   "outputs": [],
   "execution_count": 4
  },
  {
   "metadata": {
    "ExecuteTime": {
     "end_time": "2025-08-24T19:54:46.873768Z",
     "start_time": "2025-08-24T19:54:46.869773Z"
    }
   },
   "cell_type": "code",
   "source": [
    "# vid = cv.VideoCapture('Videos/dog.mp4')\n",
    "# \n",
    "# while True:\n",
    "#     isTrue, frame = vid.read()\n",
    "#     cv.imshow('Video', frame)\n",
    "#     \n",
    "#     if cv.waitKey(20) & 0xFF == ord('d'):\n",
    "#         break\n",
    "# \n",
    "# vid.release()\n",
    "# cv.destroyAllWindows()"
   ],
   "id": "fc2e18fc301a863d",
   "outputs": [],
   "execution_count": 5
  },
  {
   "metadata": {
    "ExecuteTime": {
     "end_time": "2025-08-24T19:54:46.879164Z",
     "start_time": "2025-08-24T19:54:46.875281Z"
    }
   },
   "cell_type": "code",
   "source": [
    "def rescale_frame(frame, scale=0.75):\n",
    "    width = int(frame.shape[1] * scale)\n",
    "    height = int(frame.shape[0] * scale)\n",
    "    dimensions = (width, height)\n",
    "    \n",
    "    return cv.resize(frame, dimensions, interpolation=cv.INTER_AREA)"
   ],
   "id": "954458c97b22d91b",
   "outputs": [],
   "execution_count": 6
  },
  {
   "metadata": {
    "ExecuteTime": {
     "end_time": "2025-08-24T19:54:58.233532Z",
     "start_time": "2025-08-24T19:54:46.880169Z"
    }
   },
   "cell_type": "code",
   "source": [
    "vid = cv.VideoCapture('Videos/dog.mp4')\n",
    "\n",
    "while True:\n",
    "    isTrue, frame = vid.read()\n",
    "    frame_resized = rescale_frame(frame)\n",
    "    cv.imshow('Video', frame)\n",
    "    # cv.imshow('Video', frame_resized)\n",
    "    \n",
    "    if cv.waitKey(20) & 0xFF == ord('d'):\n",
    "        break\n",
    "\n",
    "vid.release()\n",
    "cv.destroyAllWindows()"
   ],
   "id": "79ff0cb1bced166e",
   "outputs": [
    {
     "ename": "AttributeError",
     "evalue": "'NoneType' object has no attribute 'shape'",
     "output_type": "error",
     "traceback": [
      "\u001B[1;31m---------------------------------------------------------------------------\u001B[0m",
      "\u001B[1;31mAttributeError\u001B[0m                            Traceback (most recent call last)",
      "Cell \u001B[1;32mIn[7], line 5\u001B[0m\n\u001B[0;32m      3\u001B[0m \u001B[38;5;28;01mwhile\u001B[39;00m \u001B[38;5;28;01mTrue\u001B[39;00m:\n\u001B[0;32m      4\u001B[0m     isTrue, frame \u001B[38;5;241m=\u001B[39m vid\u001B[38;5;241m.\u001B[39mread()\n\u001B[1;32m----> 5\u001B[0m     frame_resized \u001B[38;5;241m=\u001B[39m \u001B[43mrescale_frame\u001B[49m\u001B[43m(\u001B[49m\u001B[43mframe\u001B[49m\u001B[43m)\u001B[49m\n\u001B[0;32m      6\u001B[0m     cv\u001B[38;5;241m.\u001B[39mimshow(\u001B[38;5;124m'\u001B[39m\u001B[38;5;124mVideo\u001B[39m\u001B[38;5;124m'\u001B[39m, frame)\n\u001B[0;32m      7\u001B[0m     \u001B[38;5;66;03m# cv.imshow('Video', frame_resized)\u001B[39;00m\n",
      "Cell \u001B[1;32mIn[6], line 2\u001B[0m, in \u001B[0;36mrescale_frame\u001B[1;34m(frame, scale)\u001B[0m\n\u001B[0;32m      1\u001B[0m \u001B[38;5;28;01mdef\u001B[39;00m \u001B[38;5;21mrescale_frame\u001B[39m(frame, scale\u001B[38;5;241m=\u001B[39m\u001B[38;5;241m0.75\u001B[39m):\n\u001B[1;32m----> 2\u001B[0m     width \u001B[38;5;241m=\u001B[39m \u001B[38;5;28mint\u001B[39m(\u001B[43mframe\u001B[49m\u001B[38;5;241;43m.\u001B[39;49m\u001B[43mshape\u001B[49m[\u001B[38;5;241m1\u001B[39m] \u001B[38;5;241m*\u001B[39m scale)\n\u001B[0;32m      3\u001B[0m     height \u001B[38;5;241m=\u001B[39m \u001B[38;5;28mint\u001B[39m(frame\u001B[38;5;241m.\u001B[39mshape[\u001B[38;5;241m0\u001B[39m] \u001B[38;5;241m*\u001B[39m scale)\n\u001B[0;32m      4\u001B[0m     dimensions \u001B[38;5;241m=\u001B[39m (width, height)\n",
      "\u001B[1;31mAttributeError\u001B[0m: 'NoneType' object has no attribute 'shape'"
     ]
    }
   ],
   "execution_count": 7
  },
  {
   "metadata": {
    "ExecuteTime": {
     "end_time": "2025-08-24T19:54:58.234538Z",
     "start_time": "2025-08-24T19:54:58.234538Z"
    }
   },
   "cell_type": "code",
   "source": "",
   "id": "7804806c694ce2e9",
   "outputs": [],
   "execution_count": null
  }
 ],
 "metadata": {
  "kernelspec": {
   "display_name": "Python 3",
   "language": "python",
   "name": "python3"
  },
  "language_info": {
   "codemirror_mode": {
    "name": "ipython",
    "version": 2
   },
   "file_extension": ".py",
   "mimetype": "text/x-python",
   "name": "python",
   "nbconvert_exporter": "python",
   "pygments_lexer": "ipython2",
   "version": "2.7.6"
  }
 },
 "nbformat": 4,
 "nbformat_minor": 5
}
